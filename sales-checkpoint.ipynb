{
 "cells": [
  {
   "cell_type": "code",
   "execution_count": 1,
   "id": "02885071",
   "metadata": {},
   "outputs": [],
   "source": [
    "import pandas as pd\n",
    "import os\n",
    "import glob"
   ]
  },
  {
   "cell_type": "markdown",
   "id": "e9791394",
   "metadata": {},
   "source": [
    "### data clean"
   ]
  },
  {
   "cell_type": "code",
   "execution_count": 2,
   "id": "04b28fed",
   "metadata": {},
   "outputs": [
    {
     "data": {
      "text/plain": [
       "['April_2019.csv',\n",
       " 'August_2019.csv',\n",
       " 'December_2019.csv',\n",
       " 'February_2019.csv',\n",
       " 'January_2019.csv',\n",
       " 'July_2019.csv',\n",
       " 'June_2019.csv',\n",
       " 'March_2019.csv',\n",
       " 'May_2019.csv',\n",
       " 'November_2019.csv',\n",
       " 'October_2019.csv',\n",
       " 'September_2019.csv']"
      ]
     },
     "execution_count": 2,
     "metadata": {},
     "output_type": "execute_result"
    }
   ],
   "source": [
    "files_Month = [file for file in os.listdir('../data/Month')] \n",
    "files_Month"
   ]
  },
  {
   "cell_type": "code",
   "execution_count": 3,
   "id": "27102391",
   "metadata": {},
   "outputs": [],
   "source": [
    "all_months_data = pd.DataFrame()\n",
    "\n",
    "for file in files_Month:\n",
    "    df = pd.read_csv('../data/Month/' + file)\n",
    "    all_months_data = pd.concat([all_months_data, df])  "
   ]
  },
  {
   "cell_type": "code",
   "execution_count": 4,
   "id": "4e7556c2",
   "metadata": {
    "scrolled": true
   },
   "outputs": [
    {
     "name": "stdout",
     "output_type": "stream",
     "text": [
      "<bound method DataFrame.duplicated of       Order_ID      Month\n",
      "0       176558      April\n",
      "1          NaN      April\n",
      "2       176559      April\n",
      "3       176560      April\n",
      "4       176560      April\n",
      "...        ...        ...\n",
      "11681   259353  September\n",
      "11682   259354  September\n",
      "11683   259355  September\n",
      "11684   259356  September\n",
      "11685   259357  September\n",
      "\n",
      "[186850 rows x 2 columns]>\n"
     ]
    }
   ],
   "source": [
    "print(all_months_data.duplicated)"
   ]
  },
  {
   "cell_type": "code",
   "execution_count": 5,
   "id": "ce110591",
   "metadata": {},
   "outputs": [],
   "source": [
    "months=all_months_data.drop_duplicates('Order_ID')"
   ]
  },
  {
   "cell_type": "code",
   "execution_count": 6,
   "id": "b7b72068",
   "metadata": {},
   "outputs": [
    {
     "data": {
      "text/html": [
       "<div>\n",
       "<style scoped>\n",
       "    .dataframe tbody tr th:only-of-type {\n",
       "        vertical-align: middle;\n",
       "    }\n",
       "\n",
       "    .dataframe tbody tr th {\n",
       "        vertical-align: top;\n",
       "    }\n",
       "\n",
       "    .dataframe thead th {\n",
       "        text-align: right;\n",
       "    }\n",
       "</style>\n",
       "<table border=\"1\" class=\"dataframe\">\n",
       "  <thead>\n",
       "    <tr style=\"text-align: right;\">\n",
       "      <th></th>\n",
       "      <th>Order_ID</th>\n",
       "      <th>Month</th>\n",
       "    </tr>\n",
       "  </thead>\n",
       "  <tbody>\n",
       "    <tr>\n",
       "      <th>0</th>\n",
       "      <td>176558</td>\n",
       "      <td>April</td>\n",
       "    </tr>\n",
       "    <tr>\n",
       "      <th>1</th>\n",
       "      <td>NaN</td>\n",
       "      <td>April</td>\n",
       "    </tr>\n",
       "    <tr>\n",
       "      <th>2</th>\n",
       "      <td>176559</td>\n",
       "      <td>April</td>\n",
       "    </tr>\n",
       "    <tr>\n",
       "      <th>3</th>\n",
       "      <td>176560</td>\n",
       "      <td>April</td>\n",
       "    </tr>\n",
       "    <tr>\n",
       "      <th>5</th>\n",
       "      <td>176561</td>\n",
       "      <td>April</td>\n",
       "    </tr>\n",
       "    <tr>\n",
       "      <th>...</th>\n",
       "      <td>...</td>\n",
       "      <td>...</td>\n",
       "    </tr>\n",
       "    <tr>\n",
       "      <th>11681</th>\n",
       "      <td>259353</td>\n",
       "      <td>September</td>\n",
       "    </tr>\n",
       "    <tr>\n",
       "      <th>11682</th>\n",
       "      <td>259354</td>\n",
       "      <td>September</td>\n",
       "    </tr>\n",
       "    <tr>\n",
       "      <th>11683</th>\n",
       "      <td>259355</td>\n",
       "      <td>September</td>\n",
       "    </tr>\n",
       "    <tr>\n",
       "      <th>11684</th>\n",
       "      <td>259356</td>\n",
       "      <td>September</td>\n",
       "    </tr>\n",
       "    <tr>\n",
       "      <th>11685</th>\n",
       "      <td>259357</td>\n",
       "      <td>September</td>\n",
       "    </tr>\n",
       "  </tbody>\n",
       "</table>\n",
       "<p>178439 rows × 2 columns</p>\n",
       "</div>"
      ],
      "text/plain": [
       "      Order_ID      Month\n",
       "0       176558      April\n",
       "1          NaN      April\n",
       "2       176559      April\n",
       "3       176560      April\n",
       "5       176561      April\n",
       "...        ...        ...\n",
       "11681   259353  September\n",
       "11682   259354  September\n",
       "11683   259355  September\n",
       "11684   259356  September\n",
       "11685   259357  September\n",
       "\n",
       "[178439 rows x 2 columns]"
      ]
     },
     "execution_count": 6,
     "metadata": {},
     "output_type": "execute_result"
    }
   ],
   "source": [
    "months"
   ]
  },
  {
   "cell_type": "code",
   "execution_count": 7,
   "id": "d531636c",
   "metadata": {},
   "outputs": [],
   "source": [
    "months.to_csv(\"../data/Month_data.csv\", index=False)"
   ]
  },
  {
   "cell_type": "code",
   "execution_count": 8,
   "id": "af230a30",
   "metadata": {},
   "outputs": [
    {
     "data": {
      "text/plain": [
       "['customer information April.csv',\n",
       " 'customer information August.csv',\n",
       " 'customer information December.csv',\n",
       " 'customer information February.csv',\n",
       " 'customer information January.csv',\n",
       " 'customer information July.csv',\n",
       " 'customer information June.csv',\n",
       " 'customer information March.csv',\n",
       " 'customer information May.csv',\n",
       " 'customer information November.csv',\n",
       " 'customer information October.csv',\n",
       " 'customer information September.csv']"
      ]
     },
     "execution_count": 8,
     "metadata": {},
     "output_type": "execute_result"
    }
   ],
   "source": [
    "files_customer_information = [file for file in os.listdir('../data/customer information')] \n",
    "files_customer_information"
   ]
  },
  {
   "cell_type": "code",
   "execution_count": 9,
   "id": "8dcb11c2",
   "metadata": {},
   "outputs": [],
   "source": [
    "all_customer_data = pd.DataFrame()\n",
    "\n",
    "for file in files_customer_information:\n",
    "    df = pd.read_csv('../data/customer information/' + file)\n",
    "    all_customer_data = pd.concat([all_customer_data, df])\n",
    "\n",
    "all_customer_data.to_csv(\"../data/all_customer_data.csv\", index=False)  "
   ]
  },
  {
   "cell_type": "code",
   "execution_count": 10,
   "id": "2eb48907",
   "metadata": {},
   "outputs": [],
   "source": [
    "all_customer = pd.read_csv('../data/all_customer_data.csv',usecols=['Order_ID','Purchase_Address'])"
   ]
  },
  {
   "cell_type": "code",
   "execution_count": 11,
   "id": "59cd0207",
   "metadata": {},
   "outputs": [
    {
     "data": {
      "text/plain": [
       "Order_ID            17132\n",
       "Purchase_Address      545\n",
       "dtype: int64"
      ]
     },
     "execution_count": 11,
     "metadata": {},
     "output_type": "execute_result"
    }
   ],
   "source": [
    "all_customer.isnull().sum()"
   ]
  },
  {
   "cell_type": "code",
   "execution_count": 12,
   "id": "bb71241a",
   "metadata": {
    "scrolled": true
   },
   "outputs": [
    {
     "data": {
      "text/plain": [
       "Order_ID            16587\n",
       "Purchase_Address        0\n",
       "dtype: int64"
      ]
     },
     "execution_count": 12,
     "metadata": {},
     "output_type": "execute_result"
    }
   ],
   "source": [
    "customerdrop = all_customer.dropna(how='all')\n",
    "customerdrop.isnull().sum()"
   ]
  },
  {
   "cell_type": "code",
   "execution_count": 13,
   "id": "9c097918",
   "metadata": {},
   "outputs": [
    {
     "data": {
      "text/html": [
       "<div>\n",
       "<style scoped>\n",
       "    .dataframe tbody tr th:only-of-type {\n",
       "        vertical-align: middle;\n",
       "    }\n",
       "\n",
       "    .dataframe tbody tr th {\n",
       "        vertical-align: top;\n",
       "    }\n",
       "\n",
       "    .dataframe thead th {\n",
       "        text-align: right;\n",
       "    }\n",
       "</style>\n",
       "<table border=\"1\" class=\"dataframe\">\n",
       "  <thead>\n",
       "    <tr style=\"text-align: right;\">\n",
       "      <th></th>\n",
       "      <th>Order_ID</th>\n",
       "      <th>Purchase_Address</th>\n",
       "    </tr>\n",
       "  </thead>\n",
       "  <tbody>\n",
       "    <tr>\n",
       "      <th>0</th>\n",
       "      <td>176558</td>\n",
       "      <td>917 1st St, Dallas, TX 75001</td>\n",
       "    </tr>\n",
       "    <tr>\n",
       "      <th>2</th>\n",
       "      <td>176559</td>\n",
       "      <td>682 Chestnut St, Boston, MA 02215</td>\n",
       "    </tr>\n",
       "    <tr>\n",
       "      <th>3</th>\n",
       "      <td>176560</td>\n",
       "      <td>669 Spruce St, Los Angeles, CA 90001</td>\n",
       "    </tr>\n",
       "    <tr>\n",
       "      <th>5</th>\n",
       "      <td>176561</td>\n",
       "      <td>333 8th St, Los Angeles, CA 90001</td>\n",
       "    </tr>\n",
       "    <tr>\n",
       "      <th>6</th>\n",
       "      <td>176562</td>\n",
       "      <td>381 Wilson St, San Francisco, CA 94016</td>\n",
       "    </tr>\n",
       "    <tr>\n",
       "      <th>...</th>\n",
       "      <td>...</td>\n",
       "      <td>...</td>\n",
       "    </tr>\n",
       "    <tr>\n",
       "      <th>186845</th>\n",
       "      <td>259353</td>\n",
       "      <td>840 Highland St, Los Angeles, CA 90001</td>\n",
       "    </tr>\n",
       "    <tr>\n",
       "      <th>186846</th>\n",
       "      <td>259354</td>\n",
       "      <td>216 Dogwood St, San Francisco, CA 94016</td>\n",
       "    </tr>\n",
       "    <tr>\n",
       "      <th>186847</th>\n",
       "      <td>259355</td>\n",
       "      <td>220 12th St, San Francisco, CA 94016</td>\n",
       "    </tr>\n",
       "    <tr>\n",
       "      <th>186848</th>\n",
       "      <td>259356</td>\n",
       "      <td>511 Forest St, San Francisco, CA 94016</td>\n",
       "    </tr>\n",
       "    <tr>\n",
       "      <th>186849</th>\n",
       "      <td>259357</td>\n",
       "      <td>250 Meadow St, San Francisco, CA 94016</td>\n",
       "    </tr>\n",
       "  </tbody>\n",
       "</table>\n",
       "<p>162613 rows × 2 columns</p>\n",
       "</div>"
      ],
      "text/plain": [
       "       Order_ID                         Purchase_Address\n",
       "0        176558             917 1st St, Dallas, TX 75001\n",
       "2        176559        682 Chestnut St, Boston, MA 02215\n",
       "3        176560     669 Spruce St, Los Angeles, CA 90001\n",
       "5        176561        333 8th St, Los Angeles, CA 90001\n",
       "6        176562   381 Wilson St, San Francisco, CA 94016\n",
       "...         ...                                      ...\n",
       "186845   259353   840 Highland St, Los Angeles, CA 90001\n",
       "186846   259354  216 Dogwood St, San Francisco, CA 94016\n",
       "186847   259355     220 12th St, San Francisco, CA 94016\n",
       "186848   259356   511 Forest St, San Francisco, CA 94016\n",
       "186849   259357   250 Meadow St, San Francisco, CA 94016\n",
       "\n",
       "[162613 rows x 2 columns]"
      ]
     },
     "execution_count": 13,
     "metadata": {},
     "output_type": "execute_result"
    }
   ],
   "source": [
    "customers=customerdrop.drop_duplicates('Order_ID')\n",
    "customers"
   ]
  },
  {
   "cell_type": "code",
   "execution_count": 14,
   "id": "6abbc617",
   "metadata": {},
   "outputs": [],
   "source": [
    "customers.to_csv(\"../data/customer.csv\", index=False) "
   ]
  },
  {
   "cell_type": "code",
   "execution_count": 15,
   "id": "637ae6ce",
   "metadata": {
    "scrolled": true
   },
   "outputs": [
    {
     "data": {
      "text/plain": [
       "['product_April.csv',\n",
       " 'product_August.csv',\n",
       " 'product_December.csv',\n",
       " 'product_February.csv',\n",
       " 'product_January.csv',\n",
       " 'product_July.csv',\n",
       " 'product_June.csv',\n",
       " 'product_March.csv',\n",
       " 'product_May.csv',\n",
       " 'product_November.csv',\n",
       " 'product_October.csv',\n",
       " 'product_September.csv']"
      ]
     },
     "execution_count": 15,
     "metadata": {},
     "output_type": "execute_result"
    }
   ],
   "source": [
    "files_product_information = [file for file in os.listdir('../data/product')] \n",
    "files_product_information"
   ]
  },
  {
   "cell_type": "code",
   "execution_count": 16,
   "id": "d27d190b",
   "metadata": {},
   "outputs": [],
   "source": [
    "all_product_data = pd.DataFrame()\n",
    "\n",
    "for file in files_product_information:\n",
    "    df = pd.read_csv('../data/product/' + file)\n",
    "    all_product_data = pd.concat([all_product_data, df])\n",
    "\n",
    "all_product_data.to_csv(\"../data/all_product_data.csv\", index=False)  "
   ]
  },
  {
   "cell_type": "code",
   "execution_count": 17,
   "id": "41ac1036",
   "metadata": {},
   "outputs": [],
   "source": [
    "all_product = pd.read_csv('../data/all_product_data.csv',usecols=['Order_ID','Product','Quantity_Ordered','Price_Each'])"
   ]
  },
  {
   "cell_type": "code",
   "execution_count": 18,
   "id": "1f918868",
   "metadata": {},
   "outputs": [
    {
     "data": {
      "text/plain": [
       "Order_ID            545\n",
       "Product             545\n",
       "Quantity_Ordered    545\n",
       "Price_Each          545\n",
       "dtype: int64"
      ]
     },
     "execution_count": 18,
     "metadata": {},
     "output_type": "execute_result"
    }
   ],
   "source": [
    "all_product.isnull().sum()"
   ]
  },
  {
   "cell_type": "code",
   "execution_count": 19,
   "id": "5912006d",
   "metadata": {},
   "outputs": [
    {
     "data": {
      "text/plain": [
       "Order_ID            0\n",
       "Product             0\n",
       "Quantity_Ordered    0\n",
       "Price_Each          0\n",
       "dtype: int64"
      ]
     },
     "execution_count": 19,
     "metadata": {},
     "output_type": "execute_result"
    }
   ],
   "source": [
    "productdrop = all_product.dropna(how='all')\n",
    "productdrop.isnull().sum()"
   ]
  },
  {
   "cell_type": "code",
   "execution_count": 20,
   "id": "9d42dd9d",
   "metadata": {},
   "outputs": [],
   "source": [
    "products=productdrop.drop_duplicates('Order_ID')"
   ]
  },
  {
   "cell_type": "code",
   "execution_count": 21,
   "id": "47476f1a",
   "metadata": {},
   "outputs": [],
   "source": [
    "products.to_csv(\"../data/product.csv\", index=False) "
   ]
  },
  {
   "cell_type": "markdown",
   "id": "c35fef25",
   "metadata": {},
   "source": [
    "### create a database connection to a SQLite database"
   ]
  },
  {
   "cell_type": "code",
   "execution_count": 22,
   "id": "34f43dee",
   "metadata": {},
   "outputs": [],
   "source": [
    "import sqlite3\n",
    "from sqlite3 import Error\n",
    "\n",
    "def create_connection(db_file):\n",
    "    \"\"\" create a database connection to a SQLite database \"\"\"\n",
    "    conn = None\n",
    "    try:\n",
    "        conn = sqlite3.connect(db_file)\n",
    "    except Error as e:\n",
    "        print(e)\n",
    "    \n",
    "    return conn"
   ]
  },
  {
   "cell_type": "code",
   "execution_count": 23,
   "id": "c0a2252a",
   "metadata": {},
   "outputs": [],
   "source": [
    "pathToFile = \"../code/\"\n",
    "fileName = \"final.db\"\n",
    "dbConnection = create_connection(pathToFile + fileName)"
   ]
  },
  {
   "cell_type": "code",
   "execution_count": 24,
   "id": "cb555465",
   "metadata": {},
   "outputs": [
    {
     "name": "stdout",
     "output_type": "stream",
     "text": [
      "Connection closed\n"
     ]
    }
   ],
   "source": [
    "if dbConnection:\n",
    "    dbConnection.close()\n",
    "    print(\"Connection closed\")"
   ]
  },
  {
   "cell_type": "code",
   "execution_count": 25,
   "id": "6c6040a7",
   "metadata": {},
   "outputs": [],
   "source": [
    "def create_table(conn, create_table_sql):\n",
    "    \"\"\" create a table from the create_table_sql statement\n",
    "    :param conn: Connection object\n",
    "    :param create_table_sql: a CREATE TABLE statement\n",
    "    :return:\n",
    "    \"\"\"\n",
    "    try:\n",
    "        c = conn.cursor()\n",
    "        c.execute(create_table_sql)\n",
    "    except Error as e:\n",
    "        print(e)"
   ]
  },
  {
   "cell_type": "code",
   "execution_count": 26,
   "id": "ee9a2cc7",
   "metadata": {},
   "outputs": [],
   "source": [
    "sql_create_product_table = \"\"\"CREATE TABLE IF NOT EXISTS product (\n",
    "                                Order_ID bigint PRIMARY KEY,\n",
    "                                Product text,\n",
    "                                Quantity_Ordered integer,\n",
    "                                Price_Each float\n",
    "                            );\"\"\"\n",
    "                            \n",
    "\n",
    "sql_create_customer_table = \"\"\"CREATE TABLE IF NOT EXISTS customer (\n",
    "                                Order_ID bigint PRIMARY KEY,\n",
    "                                Purchase_Address text\n",
    "                            );\"\"\"\n",
    "sql_create_month_table = \"\"\"CREATE TABLE IF NOT EXISTS month (\n",
    "                                Order_ID bigint PRIMARY KEY,\n",
    "                                Month text\n",
    "                            );\"\"\""
   ]
  },
  {
   "cell_type": "code",
   "execution_count": 27,
   "id": "a2cb3090",
   "metadata": {},
   "outputs": [],
   "source": [
    "pathToFile = \"../code/\"\n",
    "fileName = \"final.db\"\n",
    "dbConnection = create_connection(\"final.db\")"
   ]
  },
  {
   "cell_type": "code",
   "execution_count": 28,
   "id": "27dcfb77",
   "metadata": {},
   "outputs": [],
   "source": [
    "if dbConnection is not None:\n",
    "    create_table(dbConnection,sql_create_product_table)\n",
    "    create_table(dbConnection,sql_create_customer_table)\n",
    "    create_table(dbConnection,sql_create_month_table)\n",
    "else:\n",
    "    print(\"Error! Cannot create the database connection.\")"
   ]
  },
  {
   "cell_type": "code",
   "execution_count": 29,
   "id": "9916e207",
   "metadata": {},
   "outputs": [],
   "source": [
    "import numpy as np"
   ]
  },
  {
   "cell_type": "code",
   "execution_count": 30,
   "id": "2f2f77e7",
   "metadata": {},
   "outputs": [],
   "source": [
    "customer = pd.read_csv('../data/' + 'customer.csv')\n",
    "list1=customer.values.tolist()"
   ]
  },
  {
   "cell_type": "code",
   "execution_count": 31,
   "id": "665936f9",
   "metadata": {},
   "outputs": [],
   "source": [
    "def create_customer(conn, customer):\n",
    "    \"\"\"\n",
    "    Create a new customer into the customer table\n",
    "    \"\"\"\n",
    "    sql = ''' INSERT INTO customer(Order_ID,Purchase_Address)\n",
    "              VALUES(?,?) '''\n",
    "    cur = conn.cursor()\n",
    "    cur.execute(sql,customer)\n",
    "    conn.commit()\n",
    "    return cur.lastrowid"
   ]
  },
  {
   "cell_type": "code",
   "execution_count": 32,
   "id": "5282f7e4",
   "metadata": {},
   "outputs": [
    {
     "name": "stdout",
     "output_type": "stream",
     "text": [
      "yes\n"
     ]
    }
   ],
   "source": [
    "conn=sqlite3.connect(\"final.db\")\n",
    "print(\"yes\")\n",
    "c=conn.cursor()\n",
    "conn.commit()\n",
    "for i in list1:\n",
    "    c.execute(\"INSERT INTO customer VALUES(?,?)\",i)\n",
    "    conn.commit()"
   ]
  },
  {
   "cell_type": "code",
   "execution_count": 43,
   "id": "f36425a9",
   "metadata": {},
   "outputs": [],
   "source": [
    "product = pd.read_csv('../data/' + 'product.csv')\n",
    "list2=product.values.tolist()"
   ]
  },
  {
   "cell_type": "code",
   "execution_count": 34,
   "id": "cd77945a",
   "metadata": {},
   "outputs": [],
   "source": [
    "def create_product(conn, product):\n",
    "    \"\"\"\n",
    "    Create a new product into the product table\n",
    "    \"\"\"\n",
    "    sql = ''' INSERT INTO product(Order_ID,Product,Quantity_Ordered,Price_Each)\n",
    "              VALUES(?,?,?,?) '''\n",
    "    cur = conn.cursor()\n",
    "    cur.execute(sql,product)\n",
    "    conn.commit()\n",
    "    return cur.lastrowid"
   ]
  },
  {
   "cell_type": "code",
   "execution_count": 35,
   "id": "781e88aa",
   "metadata": {},
   "outputs": [
    {
     "name": "stdout",
     "output_type": "stream",
     "text": [
      "yes\n"
     ]
    }
   ],
   "source": [
    "conn=sqlite3.connect(\"final.db\")\n",
    "print(\"yes\")\n",
    "c=conn.cursor()\n",
    "conn.commit()\n",
    "for i in list2:\n",
    "    c.execute(\"INSERT INTO product VALUES(?,?,?,?)\",i)\n",
    "    conn.commit()"
   ]
  },
  {
   "cell_type": "code",
   "execution_count": 36,
   "id": "409e7a78",
   "metadata": {},
   "outputs": [],
   "source": [
    "month = pd.read_csv('../data/' + 'Month_data.csv')\n",
    "list3=month.values.tolist()"
   ]
  },
  {
   "cell_type": "code",
   "execution_count": 37,
   "id": "06d787cc",
   "metadata": {},
   "outputs": [],
   "source": [
    "def create_month(conn, month):\n",
    "    \"\"\"\n",
    "    Create a new month into the month table\n",
    "    \"\"\"\n",
    "    sql = ''' INSERT INTO month(Order_ID,Month)\n",
    "              VALUES(?,?) '''\n",
    "    cur = conn.cursor()\n",
    "    cur.execute(sql,month)\n",
    "    conn.commit()\n",
    "    return cur.lastrowid"
   ]
  },
  {
   "cell_type": "code",
   "execution_count": 38,
   "id": "9db09782",
   "metadata": {},
   "outputs": [
    {
     "name": "stdout",
     "output_type": "stream",
     "text": [
      "yes\n"
     ]
    }
   ],
   "source": [
    "conn=sqlite3.connect(\"final.db\")\n",
    "print(\"yes\")\n",
    "c=conn.cursor()\n",
    "conn.commit()\n",
    "for i in list3:\n",
    "    c.execute(\"INSERT INTO month VALUES(?,?)\",i)\n",
    "    conn.commit()"
   ]
  },
  {
   "cell_type": "code",
   "execution_count": null,
   "id": "ebf63ec3",
   "metadata": {},
   "outputs": [],
   "source": []
  }
 ],
 "metadata": {
  "kernelspec": {
   "display_name": "Python 3",
   "language": "python",
   "name": "python3"
  },
  "language_info": {
   "codemirror_mode": {
    "name": "ipython",
    "version": 3
   },
   "file_extension": ".py",
   "mimetype": "text/x-python",
   "name": "python",
   "nbconvert_exporter": "python",
   "pygments_lexer": "ipython3",
   "version": "3.8.8"
  }
 },
 "nbformat": 4,
 "nbformat_minor": 5
}
